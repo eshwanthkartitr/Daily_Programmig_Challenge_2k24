{
  "cells": [
    {
      "cell_type": "markdown",
      "metadata": {
        "id": "view-in-github",
        "colab_type": "text"
      },
      "source": [
        "<a href=\"https://colab.research.google.com/github/eshwanthkartitr/Daily_Programmig_Challenge_2k24/blob/main/All_Programs.ipynb\" target=\"_parent\"><img src=\"https://colab.research.google.com/assets/colab-badge.svg\" alt=\"Open In Colab\"/></a>"
      ]
    },
    {
      "cell_type": "markdown",
      "source": [
        "1/09/2k24"
      ],
      "metadata": {
        "id": "6jo7NlJMtmfD"
      }
    },
    {
      "cell_type": "markdown",
      "source": [
        "My understanding of question find kth largest element without any sorting or using libraries and return -1 for not possible cases and for k==0 return the max element"
      ],
      "metadata": {
        "id": "ef_DAlBbuy5u"
      }
    },
    {
      "cell_type": "code",
      "source": [
        "def func(li,k):\n",
        "  if k==0:\n",
        "    return max(li)\n",
        "  if li==[]:\n",
        "    return -1\n",
        "  if k>len(li):\n",
        "    return -1\n",
        "  for i in range(k-1):\n",
        "    li.remove(max(li))\n",
        "  return max(li) if li!=[] else -1\n",
        "arr = [3, 2, 1, 5, 6, 4]\n",
        "k = 2\n",
        "print(func(arr,k))\n"
      ],
      "metadata": {
        "colab": {
          "base_uri": "https://localhost:8080/"
        },
        "id": "lbd-9RKVryRr",
        "outputId": "07d64996-cd46-476d-ef92-f90b18de2deb"
      },
      "execution_count": null,
      "outputs": [
        {
          "output_type": "stream",
          "name": "stdout",
          "text": [
            "5\n"
          ]
        }
      ]
    },
    {
      "cell_type": "markdown",
      "source": [
        "09/09/2024 Using Dutch Flag Algorithim for solving this question"
      ],
      "metadata": {
        "id": "rAixz0c0h4vL"
      }
    },
    {
      "cell_type": "code",
      "source": [
        "def test_sort_array():\n",
        "    assert sort_array([0, 1, 2, 1, 0, 2, 1, 0]) == [0, 0, 0, 1, 1, 1, 2, 2], \"Test Case 1 Failed\"\n",
        "    assert sort_array([2, 2, 2, 2]) == [2, 2, 2, 2], \"Test Case 2 Failed\"\n",
        "    assert sort_array([0, 0, 0, 0]) == [0, 0, 0, 0], \"Test Case 3 Failed\"\n",
        "    assert sort_array([1, 1, 1, 1]) == [1, 1, 1, 1], \"Test Case 4 Failed\"\n",
        "    assert sort_array([2, 0, 1]) == [0, 1, 2], \"Test Case 5 Failed\"\n",
        "    assert sort_array([]) == [], \"Test Case 6 Failed\"\n",
        "    assert sort_array([1, 2, 0]) == [0, 1, 2], \"Test Case 7 Failed\"\n",
        "    print(\"All test cases pass!\")\n",
        "\n",
        "\n",
        "def sort_array(arr):\n",
        "  low,mid,high=0,0,len(arr)-1\n",
        "  while mid<=high:\n",
        "    if arr[mid]==0:\n",
        "      arr[low],arr[mid]=arr[mid],arr[low]\n",
        "      low+=1\n",
        "      mid+=1\n",
        "    elif arr[mid]==1:\n",
        "      mid+=1\n",
        "    else:\n",
        "      arr[mid],arr[high]=arr[high],arr[mid]\n",
        "      high-=1\n",
        "  return arr\n",
        "\n",
        "test_sort_array()"
      ],
      "metadata": {
        "id": "-C-NtR2SuE_E",
        "outputId": "75c55e21-3e23-4938-c376-a0c00489dee3",
        "colab": {
          "base_uri": "https://localhost:8080/"
        }
      },
      "execution_count": null,
      "outputs": [
        {
          "output_type": "stream",
          "name": "stdout",
          "text": [
            "All test cases pass!\n"
          ]
        }
      ]
    },
    {
      "cell_type": "markdown",
      "source": [
        "09/10/2k24 You are given an array arr containing n-1 distinct integers. The array consists of integers taken from the range 1 to n, meaning one integer is missing from this sequence. Your task is to find the missing integer.\n"
      ],
      "metadata": {
        "id": "CrbiLfH486aq"
      }
    },
    {
      "cell_type": "code",
      "source": [
        "def func(li):\n",
        "  if li==[1]:\n",
        "    return 2\n",
        "  for i in range(1,len(li)+1):\n",
        "    if i not in li:\n",
        "      return i\n",
        "  return len(li)+1\n",
        "test = [[1,2,4,5],[2, 3, 4, 5], [1, 2, 3, 4],[1],[x for x in range(100000)]\n",
        "]\n",
        "for ni in test:\n",
        "  print(func(ni))"
      ],
      "metadata": {
        "id": "Y3L12Fuqk99K",
        "outputId": "afca7fb1-24f2-4805-e742-33a0e5f2ecd5",
        "colab": {
          "base_uri": "https://localhost:8080/"
        }
      },
      "execution_count": 7,
      "outputs": [
        {
          "output_type": "stream",
          "name": "stdout",
          "text": [
            "3\n",
            "1\n",
            "5\n",
            "2\n",
            "100000\n"
          ]
        }
      ]
    },
    {
      "cell_type": "code",
      "source": [],
      "metadata": {
        "id": "ok7Tt9Lz9Zfy"
      },
      "execution_count": null,
      "outputs": []
    }
  ],
  "metadata": {
    "colab": {
      "provenance": [],
      "authorship_tag": "ABX9TyProt8ZBEw+TUqDkLdq45fv",
      "include_colab_link": true
    },
    "kernelspec": {
      "display_name": "Python 3",
      "name": "python3"
    },
    "language_info": {
      "name": "python"
    }
  },
  "nbformat": 4,
  "nbformat_minor": 0
}