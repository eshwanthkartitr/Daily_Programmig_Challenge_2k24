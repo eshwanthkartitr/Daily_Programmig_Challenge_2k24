{
  "cells": [
    {
      "cell_type": "markdown",
      "metadata": {
        "id": "view-in-github",
        "colab_type": "text"
      },
      "source": [
        "<a href=\"https://colab.research.google.com/github/eshwanthkartitr/Daily_Programmig_Challenge_2k24/blob/main/All_Programs.ipynb\" target=\"_parent\"><img src=\"https://colab.research.google.com/assets/colab-badge.svg\" alt=\"Open In Colab\"/></a>"
      ]
    },
    {
      "cell_type": "markdown",
      "source": [
        "1/09/2k24"
      ],
      "metadata": {
        "id": "6jo7NlJMtmfD"
      }
    },
    {
      "cell_type": "markdown",
      "source": [
        "My understanding of question find kth largest element without any sorting or using libraries and return -1 for not possible cases and for k==0 return the max element"
      ],
      "metadata": {
        "id": "ef_DAlBbuy5u"
      }
    },
    {
      "cell_type": "code",
      "source": [
        "def func(li,k):\n",
        "  if k==0:\n",
        "    return max(li)\n",
        "  if li==[]:\n",
        "    return -1\n",
        "  if k>len(li):\n",
        "    return -1\n",
        "  for i in range(k-1):\n",
        "    li.remove(max(li))\n",
        "  return max(li) if li!=[] else -1\n",
        "arr = [3, 2, 1, 5, 6, 4]\n",
        "k = 2\n",
        "print(func(arr,k))\n"
      ],
      "metadata": {
        "colab": {
          "base_uri": "https://localhost:8080/"
        },
        "id": "lbd-9RKVryRr",
        "outputId": "07d64996-cd46-476d-ef92-f90b18de2deb"
      },
      "execution_count": 27,
      "outputs": [
        {
          "output_type": "stream",
          "name": "stdout",
          "text": [
            "5\n"
          ]
        }
      ]
    },
    {
      "cell_type": "code",
      "source": [],
      "metadata": {
        "id": "-C-NtR2SuE_E"
      },
      "execution_count": null,
      "outputs": []
    }
  ],
  "metadata": {
    "colab": {
      "provenance": [],
      "authorship_tag": "ABX9TyNVrTw+mBzryAK7Lc5uYdj6",
      "include_colab_link": true
    },
    "kernelspec": {
      "display_name": "Python 3",
      "name": "python3"
    },
    "language_info": {
      "name": "python"
    }
  },
  "nbformat": 4,
  "nbformat_minor": 0
}